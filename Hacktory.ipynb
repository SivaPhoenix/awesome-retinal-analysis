{
 "cells": [
  {
   "cell_type": "code",
   "execution_count": 145,
   "metadata": {
    "collapsed": true
   },
   "outputs": [],
   "source": [
    "import numpy as np\n",
    "from keras.layers import Input\n",
    "from keras.models import Sequential\n",
    "from keras.layers import Convolution2D\n",
    "from keras.models import Model\n",
    "from keras.layers import GlobalAveragePooling2D,MaxPooling2D\n",
    "from keras.layers import Dense,Flatten,SpatialDropout2D\n",
    "from keras.layers.merge import concatenate\n",
    "\n",
    "from keras.callbacks import EarlyStopping, ModelCheckpoint\n",
    "from keras.callbacks import History\n",
    "import matplotlib.pyplot as plt\n",
    "from sklearn.metrics import confusion_matrix\n",
    "import pandas as pd\n",
    "%matplotlib inline"
   ]
  },
  {
   "cell_type": "code",
   "execution_count": 146,
   "metadata": {
    "collapsed": true
   },
   "outputs": [],
   "source": [
    "image_size = (64, 64)"
   ]
  },
  {
   "cell_type": "code",
   "execution_count": 147,
   "metadata": {
    "collapsed": true
   },
   "outputs": [],
   "source": [
    "def plot_model_history(history):\n",
    "    \"\"\"\n",
    "    Function to plot training and validation data of model\n",
    "    \n",
    "    Parameters\n",
    "    ----------\n",
    "    history: dictionary\n",
    "             history of training and validation of model\n",
    "    Returns\n",
    "    -------\n",
    "    None\n",
    "    \n",
    "    \"\"\"\n",
    "    print(history.history.keys())\n",
    "    # summarize history for accuracy\n",
    "    plt.plot(history.history['acc'])\n",
    "    plt.plot(history.history['val_acc'])\n",
    "    plt.title('model accuracy')\n",
    "    plt.ylabel('accuracy')\n",
    "    plt.xlabel('epoch')\n",
    "    plt.legend(['train', 'test'], loc='upper left')\n",
    "    plt.show()\n",
    "    # summarize history for loss\n",
    "    plt.plot(history.history['loss'])\n",
    "    plt.plot(history.history['val_loss'])\n",
    "    plt.title('model loss')\n",
    "    plt.ylabel('loss')\n",
    "    plt.xlabel('epoch')\n",
    "    plt.legend(['train', 'test'], loc='upper left')\n",
    "    plt.show()"
   ]
  },
  {
   "cell_type": "code",
   "execution_count": 148,
   "metadata": {
    "collapsed": true
   },
   "outputs": [],
   "source": [
    "def buildNet(num_classes):\n",
    "    \"\"\"\n",
    "    Function to build 4 layer NN with 2 Conv layers, 1 MaxPool layer,\n",
    "    1 GlobalMaxPool layer and 2 Dense layers\n",
    "    \n",
    "    Parameters\n",
    "    ----------\n",
    "    num_classes: int\n",
    "                 Number of classes in training data\n",
    "    Returns\n",
    "    -------\n",
    "    Neural Network created\n",
    "    \"\"\"\n",
    "    model1=Sequential()\n",
    "    model1.add(Convolution2D(32, (3,3),input_shape=(image_size[0], image_size[1], 3),activation='relu'))\n",
    "    model1.add(MaxPooling2D(pool_size=(2,2)))\n",
    "    model1.add(Convolution2D(64,(3,3),activation='relu'))\n",
    "    model1.add(GlobalAveragePooling2D())\n",
    "\n",
    "    model1.add(Dense(128, activation='relu'))\n",
    "    model1.add(Dense(1, activation='sigmoid'))\n",
    "    model1.compile(loss='binary_crossentropy', optimizer='adam', metrics=['accuracy'])\n",
    "    print(model1.summary())\n",
    "    return model1"
   ]
  },
  {
   "cell_type": "code",
   "execution_count": 149,
   "metadata": {
    "collapsed": true
   },
   "outputs": [],
   "source": [
    "def trainNet(training_set, validation_set):\n",
    "    \"\"\"\n",
    "    Function to train Neural Network Created, save it as hd5 and plot the various parameters.\n",
    "    \n",
    "    Arguments\n",
    "    ---------\n",
    "    training_set:   ImageDataGenerator object\n",
    "                    Training set with labels.\n",
    "    validation_set: ImageDataGenerator object\n",
    "                    Validation set with labels.\n",
    "    \n",
    "    Returns\n",
    "    -------\n",
    "    history: dictionary\n",
    "             History of training and validation of model.\n",
    "    \"\"\"\n",
    "    num_classes = 1#y_train.shape[1]\n",
    "    model = buildNet(num_classes)\n",
    "    history = History()\n",
    "    callbacks = [EarlyStopping(monitor='val_loss', patience=5),\n",
    "             ModelCheckpoint(filepath='best_model.h5', monitor='val_loss', save_best_only=True),history]\n",
    "    \n",
    "    history = model.fit_generator(training_set,\n",
    "                                steps_per_epoch = 8000/32,\n",
    "                                epochs = 15,\n",
    "                                validation_data = validation_set,\n",
    "                                validation_steps = 64,\n",
    "                                use_multiprocessing = True,\n",
    "                                workers = 8)\n",
    "    model.save('model.hd5')\n",
    "    plot_model_history(history)\n",
    "\n",
    "    #model.fit(X_train, y_train, validation_data=(X_val, y_val), epochs=30, batch_size=100,callbacks=callbacks,verbose=1)\n",
    "    return history"
   ]
  },
  {
   "cell_type": "code",
   "execution_count": 152,
   "metadata": {
    "collapsed": true
   },
   "outputs": [],
   "source": [
    "from keras.preprocessing.image import ImageDataGenerator"
   ]
  },
  {
   "cell_type": "markdown",
   "metadata": {},
   "source": [
    "Reading the images using the Image Generator."
   ]
  },
  {
   "cell_type": "code",
   "execution_count": 153,
   "metadata": {},
   "outputs": [
    {
     "name": "stdout",
     "output_type": "stream",
     "text": [
      "Found 1623 images belonging to 2 classes.\n",
      "Found 440 images belonging to 2 classes.\n"
     ]
    }
   ],
   "source": [
    "train_datagen = ImageDataGenerator(rescale = 1./255)\n",
    "\n",
    "test_datagen = ImageDataGenerator(rescale = 1./255)\n",
    "\n",
    "\n",
    "training_set = train_datagen.flow_from_directory('dataset/train/',\n",
    "                                                 target_size = image_size,\n",
    "                                                 batch_size = 32,\n",
    "                                                 class_mode = 'binary')\n",
    "\n",
    "validation_set = test_datagen.flow_from_directory('dataset/test/',\n",
    "                                                  target_size = image_size,\n",
    "                                                  batch_size = 32,\n",
    "                                                  class_mode = 'binary', shuffle=False)\n"
   ]
  },
  {
   "cell_type": "code",
   "execution_count": 154,
   "metadata": {},
   "outputs": [
    {
     "name": "stdout",
     "output_type": "stream",
     "text": [
      "_________________________________________________________________\n",
      "Layer (type)                 Output Shape              Param #   \n",
      "=================================================================\n",
      "conv2d_11 (Conv2D)           (None, 62, 62, 32)        896       \n",
      "_________________________________________________________________\n",
      "max_pooling2d_6 (MaxPooling2 (None, 31, 31, 32)        0         \n",
      "_________________________________________________________________\n",
      "conv2d_12 (Conv2D)           (None, 29, 29, 64)        18496     \n",
      "_________________________________________________________________\n",
      "global_average_pooling2d_6 ( (None, 64)                0         \n",
      "_________________________________________________________________\n",
      "dense_11 (Dense)             (None, 128)               8320      \n",
      "_________________________________________________________________\n",
      "dense_12 (Dense)             (None, 1)                 129       \n",
      "=================================================================\n",
      "Total params: 27,841\n",
      "Trainable params: 27,841\n",
      "Non-trainable params: 0\n",
      "_________________________________________________________________\n",
      "None\n",
      "Epoch 1/15\n",
      "250/250 [==============================] - 308s 1s/step - loss: 0.5591 - acc: 0.7144 - val_loss: 0.4561 - val_acc: 0.7872\n",
      "Epoch 2/15\n",
      "250/250 [==============================] - 279s 1s/step - loss: 0.5392 - acc: 0.7231 - val_loss: 0.4703 - val_acc: 0.7897\n",
      "Epoch 3/15\n",
      "250/250 [==============================] - 280s 1s/step - loss: 0.5266 - acc: 0.7351 - val_loss: 0.4348 - val_acc: 0.8165\n",
      "Epoch 4/15\n",
      "250/250 [==============================] - 274s 1s/step - loss: 0.5167 - acc: 0.7391 - val_loss: 0.4434 - val_acc: 0.8090\n",
      "Epoch 5/15\n",
      "250/250 [==============================] - 277s 1s/step - loss: 0.5048 - acc: 0.7471 - val_loss: 0.4216 - val_acc: 0.7946\n",
      "Epoch 6/15\n",
      "250/250 [==============================] - 276s 1s/step - loss: 0.4972 - acc: 0.7554 - val_loss: 0.4254 - val_acc: 0.8155\n",
      "Epoch 7/15\n",
      "250/250 [==============================] - 269s 1s/step - loss: 0.4863 - acc: 0.7678 - val_loss: 0.5014 - val_acc: 0.7773\n",
      "Epoch 8/15\n",
      "250/250 [==============================] - 277s 1s/step - loss: 0.4806 - acc: 0.7711 - val_loss: 0.3969 - val_acc: 0.8110\n",
      "Epoch 9/15\n",
      "250/250 [==============================] - 279s 1s/step - loss: 0.4682 - acc: 0.7778 - val_loss: 0.3913 - val_acc: 0.8135\n",
      "Epoch 10/15\n",
      "250/250 [==============================] - 289s 1s/step - loss: 0.4653 - acc: 0.7823 - val_loss: 0.4082 - val_acc: 0.8254\n",
      "Epoch 11/15\n",
      "250/250 [==============================] - 271s 1s/step - loss: 0.4612 - acc: 0.7832 - val_loss: 0.3892 - val_acc: 0.8189\n",
      "Epoch 12/15\n",
      "250/250 [==============================] - 294s 1s/step - loss: 0.4568 - acc: 0.7859 - val_loss: 0.3835 - val_acc: 0.8219\n",
      "Epoch 13/15\n",
      "250/250 [==============================] - 280s 1s/step - loss: 0.4567 - acc: 0.7862 - val_loss: 0.3826 - val_acc: 0.8343\n",
      "Epoch 14/15\n",
      "250/250 [==============================] - 273s 1s/step - loss: 0.4523 - acc: 0.7908 - val_loss: 0.3794 - val_acc: 0.8224\n",
      "Epoch 15/15\n",
      "250/250 [==============================] - 271s 1s/step - loss: 0.4473 - acc: 0.7918 - val_loss: 0.3778 - val_acc: 0.8219\n",
      "dict_keys(['loss', 'val_loss', 'val_acc', 'acc'])\n"
     ]
    },
    {
     "data": {
      "image/png": "[encoded data removed]",
      "text/plain": [
       "<Figure size 432x288 with 1 Axes>"
      ]
     },
     "metadata": {},
     "output_type": "display_data"
    },
    {
     "data": {
      "image/png": "[encoded data removed]",
      "text/plain": [
       "<Figure size 432x288 with 1 Axes>"
      ]
     },
     "metadata": {},
     "output_type": "display_data"
    }
   ],
   "source": [
    "history = trainNet(training_set=training_set, validation_set=validation_set)"
   ]
  },
  {
   "cell_type": "markdown",
   "metadata": {},
   "source": []
  },
  {
   "cell_type": "code",
   "execution_count": null,
   "metadata": {
    "collapsed": true
   },
   "outputs": [],
   "source": [
    "from keras.models import load_model\n",
    "mod=load_model('model.hd5')"
   ]
  },
  {
   "cell_type": "markdown",
   "metadata": {},
   "source": [
    "Function to predic the image that is uploaded."
   ]
  },
  {
   "cell_type": "code",
   "execution_count": null,
   "metadata": {
    "collapsed": true
   },
   "outputs": [],
   "source": [
    "def result():\n",
    "    \n",
    "    \"\"\"\n",
    "    Function to predict if the retina image has diabetic retinopathy or not.\n",
    "    \n",
    "    Parameters\n",
    "    ----------\n",
    "    None\n",
    "    \n",
    "    Returns\n",
    "    -------\n",
    "    y_pred: bool\n",
    "            Whether or not the retina has diabetic retinopathy.\n",
    "    percent_chance: float\n",
    "            Percentage of chance the retina image has diabetic retinopathy.\n",
    "    \"\"\"\n",
    "    \n",
    "    mod=load_model('model.hd5')\n",
    "\n",
    "    test_gen = ImageDataGenerator(rescale = 1./255)\n",
    "\n",
    "    test_data = test_gen.flow_from_directory('final/',\n",
    "                                              target_size = (64, 64),\n",
    "                                              batch_size = 32,\n",
    "                                              class_mode = 'binary', shuffle=False)\n",
    "    predicted = mod.predict_generator(test_data)\n",
    "    \n",
    "    y_pred = predicted[0][0] > 0.4\n",
    "    percent_chance = round(predicted[0][0]*100, 2)\n",
    "    \n",
    "    return y_pred, percent_chance"
   ]
  },
  {
   "cell_type": "code",
   "execution_count": null,
   "metadata": {
    "collapsed": true
   },
   "outputs": [],
   "source": [
    "mod.predict_generator(test_data)"
   ]
  }
 ],
 "metadata": {
  "kernelspec": {
   "display_name": "Python 3",
   "language": "python",
   "name": "python3"
  },
  "language_info": {
   "codemirror_mode": {
    "name": "ipython",
    "version": 3
   },
   "file_extension": ".py",
   "mimetype": "text/x-python",
   "name": "python",
   "nbconvert_exporter": "python",
   "pygments_lexer": "ipython3",
   "version": "3.6.5"
  }
 },
 "nbformat": 4,
 "nbformat_minor": 2
}
